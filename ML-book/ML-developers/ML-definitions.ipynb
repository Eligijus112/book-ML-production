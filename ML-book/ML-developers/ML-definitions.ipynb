{
 "cells": [
  {
   "cell_type": "markdown",
   "metadata": {},
   "source": [
    "# Machine learning 101 for a developer"
   ]
  },
  {
   "cell_type": "markdown",
   "metadata": {},
   "source": [
    "In order to deeply understand machine learning, it takes years of studying different subjects in mathematics. To write an efficient framework in any programming language that implements machine learning takes even more time, because not only that you need to know the math but programming as well. We are very lucky that high speed packages exists in R and Python as open source software. In my opinion, the thing that kickstarted the machine learning wave in busineses is that packages like tensorflow, pytorch, scikit-lean are open source. The implementation part which would take the longest time in any project are readily available for free for the whole world to use.   \n",
    "\n",
    "Alot of developers when they see the interview questions for machine learning roles and the material in certain textbooks can feel overwhelmed very quickly. But rarely do we need to write model training from scratch. In most cases, knowledge of the basic definitions of machine learning, some intuition behind certain concepts and the ability to use open source software are all that are needed to create highly accurate machine learning models. "
   ]
  },
  {
   "cell_type": "markdown",
   "metadata": {},
   "source": [
    "## Machine learning like an API"
   ]
  },
  {
   "cell_type": "markdown",
   "metadata": {},
   "source": [
    "One of machine learning models' main purpose is to output a **score** given a set of inputs. A web developer can view a machine learning model as an API: \n",
    "\n",
    "<img src=\"API-models.png\" width=\"800\" height=\"400\">"
   ]
  },
  {
   "cell_type": "markdown",
   "metadata": {},
   "source": [
    "Just like an API response can be a vast number of things (json containing a dictionary of bought goods, json containing the number of active users, etc.) so too can a machine learning model output one number, a vector of numbers, a probability, a class, etc.\n",
    "\n",
    "When an API gets a request, it usually contacts the database to get relevant data, do some computations and return a response. When we query a machine learning model, there are coefficients in it that get multiplied with data points and the final score is returned."
   ]
  },
  {
   "cell_type": "markdown",
   "metadata": {},
   "source": [
    "## Data "
   ]
  },
  {
   "cell_type": "markdown",
   "metadata": {},
   "source": [
    "The fundamental part of any machine learning model is data. Data is used both in creating machine learning models and getting the predictions after creation. Data can be thought of as a spreadsheet in excel: \n",
    "\n",
    "<img src=\"spreadsheet.png\" width=\"500\" height=\"400\">"
   ]
  },
  {
   "cell_type": "markdown",
   "metadata": {},
   "source": [
    "The whole spreadsheet is considered as the $X$ matrix in various textbooks. Each column is a ***feature***. Each row represents a different person. If the spreadsheet has 1000 rows and 10 features we say that the $X$ matrix dimension is 1000 x 10. A very popular notation for the number of observations is the letter $n$ and for the number of features a popular choice is $k$. \n",
    "\n",
    "Thus in general, if we have $n$ observations and $k$ features we can write out that information as simply having a matrix $X_{n x p}$."
   ]
  },
  {
   "cell_type": "markdown",
   "metadata": {},
   "source": [
    "In machine learning we ussualy want to predict something. The feature which we want to forecast is ussualy called the ***target*** variable and denoted as $Y$ matrix.\n",
    "\n",
    "<img src=\"spreadsheet2.png\" width=\"600\" height=\"400\">"
   ]
  },
  {
   "cell_type": "markdown",
   "metadata": {},
   "source": [
    "In this example, we want to forecast the variable **education_years**. Thus the feature can be called the $Y$ variable."
   ]
  },
  {
   "cell_type": "markdown",
   "metadata": {},
   "source": [
    "If we only have these 4 rows of data, then the input to our model is: \n",
    "    \n",
    "$$X_{4x3}$$ \n",
    "\n",
    "And the target matrix is \n",
    "\n",
    "$$Y_{4x1}$$"
   ]
  },
  {
   "cell_type": "markdown",
   "metadata": {},
   "source": [
    "## Loading packages for simulations and computations "
   ]
  },
  {
   "cell_type": "code",
   "execution_count": 1,
   "metadata": {},
   "outputs": [],
   "source": [
    "# Arrays, randomnes \n",
    "import numpy as np \n",
    "\n",
    "# Visualization \n",
    "import matplotlib.pyplot as plt \n",
    "\n",
    "# Dataframes \n",
    "import pandas as pd "
   ]
  },
  {
   "cell_type": "markdown",
   "metadata": {},
   "source": [
    "## Models "
   ]
  },
  {
   "cell_type": "markdown",
   "metadata": {},
   "source": [
    "As a web developer reading this, machine learning models have little in common with the models that are used in app development. Losely speaking, in app development, models are database tables. In mathematics, a model has another meaning. "
   ]
  },
  {
   "cell_type": "markdown",
   "metadata": {},
   "source": [
    "In the previous chapter the definition for machine learning was introduced: \n",
    "    \n",
    "\"A computer program is said to learn from experience **E** with respect to some class of tasks **T** and performance measure **P** if its performance at tasks in **T**, as measured by **P**, improves with experience **E**.\""
   ]
  },
  {
   "cell_type": "markdown",
   "metadata": {},
   "source": [
    "Lets augment the definition with the term **model**: \n",
    "    \n",
    "\"A machine learning model is said to train from data **E** with respect to some class of tasks **T** and performance measure **P** if its performance at tasks in **T**, as measured by **P**, improves with more data **E**.\""
   ]
  },
  {
   "cell_type": "markdown",
   "metadata": {},
   "source": [
    "Well, what is a **model** then? \n",
    "\n",
    "Mathematical models are a simplified representations of certain real world phenomena. The models try to explain observations with a set of other observable metrics: \n",
    "\n",
    "* How is the air temperature linked to past temperatures? \n",
    "\n",
    "* How is body weight linked with height? \n",
    "\n",
    "* What influences that a user stays in our website? \n",
    "\n",
    "* What gene in our DNA influences that we will have diabetes?\n",
    "\n",
    "There are certain targets that we want to explain and there are inputs/features/explanatory variables that we can use in making predictions. "
   ]
  },
  {
   "cell_type": "markdown",
   "metadata": {},
   "source": [
    "It is very popular to notate all the inputs that we have as matrix $X$ and the target variable we are trying to explain with those inputs as $Y$. "
   ]
  },
  {
   "cell_type": "markdown",
   "metadata": {},
   "source": [
    "Then the model is a function $f$ that:\n",
    "    \n",
    "$$f(X) = Y $$"
   ]
  },
  {
   "cell_type": "markdown",
   "metadata": {},
   "source": [
    "For example, \n",
    "\n",
    "$$ f(weight) = height$$ \n",
    "\n",
    "$$ f(education, family\\_capital) = income$$"
   ]
  },
  {
   "cell_type": "markdown",
   "metadata": {},
   "source": [
    "We call the models **simplified** because we cannot perfectly explain all the randomness in certain observable phenomena and we cannot track all the possible influencing factors. A good example is forecasting the weather: there are many high precision metrics beeing tracked every minute by stations around the world but scientists still cannot perfectly predict tommorow's mean temperature. Maybe a good predictor would be the gravity pull in a certain region? Or the underground temperature of the soil of an area? We cannot possibly measure **all** the features.  \n",
    "\n",
    "Thus we make **assumptions** that simplify the models: for example, the mean temperature is only influenced by past temperatures, humidity and pressure in the atmosphere. \n",
    "\n",
    "$$ temperature_{t} = \\beta_{1} temperature_{t-1} + \\beta_{2} humidity + \\beta_{3} pressure $$"
   ]
  },
  {
   "cell_type": "markdown",
   "metadata": {},
   "source": [
    "## Types of models "
   ]
  },
  {
   "cell_type": "markdown",
   "metadata": {},
   "source": [
    "When a bussines decides to use machine learning models, the problem very often falls into one of two groups: classification or regression. \n",
    "    \n",
    "In classification problems, we want to classify an observation into one of **k** classes (the picture is a cat or dog? the review is bad, neutral or good?) \n",
    "\n",
    "In regression problems, we want that our model outputs the expected average value of a continuous variable (income, weight, clicks, etc.) "
   ]
  },
  {
   "cell_type": "markdown",
   "metadata": {},
   "source": [
    "In either case, the notation is the same: given a set of **inputs X** we want to forecast the **target variable Y**. The model is a function that maps inputs to outputs:\n",
    "\n",
    "$$ f(X) = Y $$"
   ]
  },
  {
   "cell_type": "markdown",
   "metadata": {},
   "source": [
    "The function $f$ can be very simple to very complex. "
   ]
  },
  {
   "cell_type": "code",
   "execution_count": null,
   "metadata": {},
   "outputs": [],
   "source": []
  }
 ],
 "metadata": {
  "kernelspec": {
   "display_name": "book",
   "language": "python",
   "name": "book"
  },
  "language_info": {
   "codemirror_mode": {
    "name": "ipython",
    "version": 3
   },
   "file_extension": ".py",
   "mimetype": "text/x-python",
   "name": "python",
   "nbconvert_exporter": "python",
   "pygments_lexer": "ipython3",
   "version": "3.8.3"
  }
 },
 "nbformat": 4,
 "nbformat_minor": 4
}
