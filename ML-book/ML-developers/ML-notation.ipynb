{
 "cells": [
  {
   "cell_type": "markdown",
   "metadata": {},
   "source": [
    "# Machine learning notations "
   ]
  },
  {
   "cell_type": "markdown",
   "metadata": {},
   "source": [
    "Notation definition: \n",
    "\n",
    "\"In linguistics and semiotics, a notation is a system of graphics or symbols, characters and abbreviated expressions, used (for example) in artistic and scientific disciplines to represent technical facts and quantities by convention\"\n",
    "\n",
    "There are certain notations in machine learning that can be seen in 99% of all the material. By defining notations and objects we lay the foundation for all other subjects that will be presented in this book. \n",
    "\n",
    "I will try to link certain mathematical notations with objects from web development for all the front-end and back-end engineers out there. At the end of the day, machine learning implementations are in various programming languages and not just in textbooks thus a link between computer science and math is needed."
   ]
  },
  {
   "cell_type": "markdown",
   "metadata": {},
   "source": [
    "## Set"
   ]
  },
  {
   "cell_type": "markdown",
   "metadata": {},
   "source": [
    "One of the fundamental definitions is a set: \n",
    "\n",
    "\"A **set** is a collection of distinct elements linked by certain attributes\". \n",
    "\n",
    "We denote a set by curly braces **{ }**. For example: \n",
    "\n",
    "A = {4, 89, 3}.\n",
    "\n",
    "B = {\"Hello\", \"This is a string set\"}.\n",
    "\n",
    "The number of elements in a set is denoted with the **#** symbol. \n",
    "\n",
    "#A = 3 \n",
    "\n",
    "#B = 2\n",
    "\n",
    "Python has a very similar syntax. We define a set by curly braces as well:"
   ]
  },
  {
   "cell_type": "code",
   "execution_count": 1,
   "metadata": {},
   "outputs": [
    {
     "name": "stdout",
     "output_type": "stream",
     "text": [
      "Number of elements in A: 3\n",
      "Number of elements in B: 2\n"
     ]
    }
   ],
   "source": [
    "# Defining the sets\n",
    "A = {4, 89, 3}\n",
    "B = {\"Hello\", \"This is a string set\"}\n",
    "\n",
    "# The number of elements is extracted with the function len()\n",
    "print(f\"Number of elements in A: {len(A)}\")\n",
    "print(f\"Number of elements in B: {len(B)}\")"
   ]
  },
  {
   "cell_type": "markdown",
   "metadata": {},
   "source": [
    "If we want to say that an element is in a specific set we use the $\\in$ symbol: \n",
    "\n",
    "$$ a \\in A $$\n",
    "\n",
    "Would mean that a can be either 4, 89 or 3."
   ]
  },
  {
   "cell_type": "markdown",
   "metadata": {},
   "source": [
    "A special kind of sets in mathematics are the **number sets**. Even the simplest set of any of the number sets would not fit into the most big of computers. But they fit in out minds and in our notebooks. "
   ]
  },
  {
   "cell_type": "markdown",
   "metadata": {},
   "source": [
    "## Number sets"
   ]
  },
  {
   "cell_type": "markdown",
   "metadata": {},
   "source": [
    "There are sets of numbers that are used so often they have special names and symbols:"
   ]
  },
  {
   "cell_type": "markdown",
   "metadata": {},
   "source": [
    "Natural numbers $\\mathbb{N} = \\{1, 2, 3, 4, ...\\}$.  \n",
    "\n",
    "Integers $\\mathbb{Z} = \\{..., -3, -2, ..., 2, 3, ... \\}$.\n",
    "\n",
    "Rational numbers $\\mathbb{Q}$. They are made by dividing any two integers (but not by 0 ofcourse).\n",
    "\n",
    "Real numbers $\\mathbb{R}$ - any number anywhere on the number line. The values of this set ranges from -$\\infty$ to $\\infty$."
   ]
  },
  {
   "cell_type": "markdown",
   "metadata": {},
   "source": [
    "There are equivalent data types in python:  "
   ]
  },
  {
   "cell_type": "code",
   "execution_count": 3,
   "metadata": {},
   "outputs": [
    {
     "name": "stdout",
     "output_type": "stream",
     "text": [
      "True\n"
     ]
    }
   ],
   "source": [
    "a = 5 \n",
    "\n",
    "print(isinstance(a, int))"
   ]
  },
  {
   "cell_type": "markdown",
   "metadata": {},
   "source": [
    "a in this case would be a member of the $Z$ set: a $\\in Z$. "
   ]
  },
  {
   "cell_type": "code",
   "execution_count": 8,
   "metadata": {},
   "outputs": [
    {
     "name": "stdout",
     "output_type": "stream",
     "text": [
      "True\n"
     ]
    }
   ],
   "source": [
    "b = 5.0 \n",
    "\n",
    "print(isinstance(b, float))"
   ]
  },
  {
   "cell_type": "markdown",
   "metadata": {},
   "source": [
    "The float data type intuitively can be thought of as a real number set. "
   ]
  },
  {
   "cell_type": "markdown",
   "metadata": {},
   "source": [
    "In practise, when defining numbers, integers and real numbers are all that are needed when using machine learning frameworks in python. "
   ]
  },
  {
   "cell_type": "markdown",
   "metadata": {},
   "source": [
    "## Scalars and vectors "
   ]
  },
  {
   "cell_type": "markdown",
   "metadata": {},
   "source": [
    "Scalar is a numerical value. It is a simple number. In textbooks they are denoted with a lowercase italic letters. For example, *a*, *b*, *k*, *x*. \n",
    "\n",
    "A vector is an ordered list of scalar values. It holds one or more scalars. We denote as a bolded lowercase letter. For example \n",
    "\n",
    "$$ \\bf{x} = [0.1, 0.5] $$\n",
    "\n",
    "$$ \\bf{y} = [0.3, 0.4] $$\n",
    "\n",
    "Each coordinate is separated by a comma.\n",
    "\n",
    "In python, a 1D **array** is the equivalent of a mathematical vector. The arrays are implemented in the **numpy** package.    "
   ]
  },
  {
   "cell_type": "code",
   "execution_count": 18,
   "metadata": {},
   "outputs": [
    {
     "name": "stdout",
     "output_type": "stream",
     "text": [
      "Shape of the a vector: (3,)\n"
     ]
    }
   ],
   "source": [
    "import numpy as np \n",
    "\n",
    "# Defining a vector\n",
    "a = np.array([5, 8, 3])\n",
    "\n",
    "# The shape of a 1D array is (Number of coordinates, None)\n",
    "print(f\"Shape of the a vector: {a.shape}\")"
   ]
  },
  {
   "cell_type": "markdown",
   "metadata": {},
   "source": [
    "When we want to denote that a vector **x** has p coordinates and each coordinate is real number, we write: \n",
    "    \n",
    "$$ \\bf x \\in \\mathbb{R}^{p} $$"
   ]
  },
  {
   "cell_type": "markdown",
   "metadata": {},
   "source": [
    "The above notation will be quite frequent throught this book. "
   ]
  },
  {
   "cell_type": "markdown",
   "metadata": {},
   "source": [
    "## Matrices "
   ]
  },
  {
   "cell_type": "markdown",
   "metadata": {},
   "source": [
    "A matrix is a rectangular array of numbers. We denote a matrix as an uppercase bolded letter **M**, **X**, etc. Important matrix attributes are the row count and the column count.\n",
    "\n",
    "If a matrix has *n* rows and *p* columns then we can denote that matrix as $\\mathbb{X_{nxp}}$.\n",
    "\n",
    "A simple example of a matrix of 3 rows and two collumns: \n",
    "\n",
    "$$ A = \\begin{bmatrix}\n",
    "5 & 3 \\\\\n",
    "6 & 1 \\\\\n",
    "9 & 5\n",
    "\\end{bmatrix}_{3x2}$$"
   ]
  },
  {
   "cell_type": "markdown",
   "metadata": {},
   "source": [
    "Each element in a matrix can be identified by the row and column index where it is. For example, A[1, 2] = 3. In the first row and in the second collumn there is the element 3."
   ]
  },
  {
   "cell_type": "code",
   "execution_count": null,
   "metadata": {},
   "outputs": [],
   "source": []
  }
 ],
 "metadata": {
  "kernelspec": {
   "display_name": "book",
   "language": "python",
   "name": "book"
  },
  "language_info": {
   "codemirror_mode": {
    "name": "ipython",
    "version": 3
   },
   "file_extension": ".py",
   "mimetype": "text/x-python",
   "name": "python",
   "nbconvert_exporter": "python",
   "pygments_lexer": "ipython3",
   "version": "3.8.3"
  }
 },
 "nbformat": 4,
 "nbformat_minor": 4
}
