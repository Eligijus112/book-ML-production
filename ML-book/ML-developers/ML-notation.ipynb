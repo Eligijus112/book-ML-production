{
 "cells": [
  {
   "cell_type": "markdown",
   "metadata": {},
   "source": [
    "# Machine learning notations "
   ]
  },
  {
   "cell_type": "markdown",
   "metadata": {},
   "source": [
    "Notation definition: \n",
    "\n",
    "\"In linguistics and semiotics, a notation is a system of graphics or symbols, characters and abbreviated expressions, used (for example) in artistic and scientific disciplines to represent technical facts and quantities by convention\"\n",
    "\n",
    "There are certain notations in machine learning that can be seen in 99% of all the material. By defining notations and objects we lay the foundation for all other subjects that will be presented in this book. \n",
    "\n",
    "I will try to link certain mathematical notations with objects from web development for all the front-end and back-end engineers out there. At the end of the day, machine learning implementations are in various programming languages and not just in textbooks thus a link between computer science and math is needed."
   ]
  },
  {
   "cell_type": "markdown",
   "metadata": {},
   "source": [
    "## Set"
   ]
  },
  {
   "cell_type": "markdown",
   "metadata": {},
   "source": [
    "One of the fundamental definitions is a set: \n",
    "\n",
    "\"A **set** is a collection of distinct elements linked by certain attributes\". \n",
    "\n",
    "We denote a set by curly braces **{ }**. For example: \n",
    "\n",
    "A = {4, 89, 3}.\n",
    "\n",
    "B = {\"Hello\", \"This is a string set\"}.\n",
    "\n",
    "The number of elements in a set is denoted with the **#** symbol. \n",
    "\n",
    "#A = 3 \n",
    "\n",
    "#B = 2\n",
    "\n",
    "Python has a very similar syntax. We define a set by curly braces as well:"
   ]
  },
  {
   "cell_type": "code",
   "execution_count": 4,
   "metadata": {},
   "outputs": [
    {
     "name": "stdout",
     "output_type": "stream",
     "text": [
      "Number of elements in A: 3\n",
      "Number of elements in B: 2\n"
     ]
    }
   ],
   "source": [
    "# Defining the sets\n",
    "A = {4, 89, 3}\n",
    "B = {\"Hello\", \"This is a string set\"}\n",
    "\n",
    "# The number of elements is extracted with the function len()\n",
    "print(f\"Number of elements in A: {len(A)}\")\n",
    "print(f\"Number of elements in B: {len(B)}\")"
   ]
  },
  {
   "cell_type": "markdown",
   "metadata": {},
   "source": [
    "A special kind of sets in mathematics are the **number sets**. Even the simplest set of any of the number sets would not fit into the most big of computers. But they fit in out minds and in our notebooks. "
   ]
  },
  {
   "cell_type": "markdown",
   "metadata": {},
   "source": [
    "## Number sets"
   ]
  },
  {
   "cell_type": "code",
   "execution_count": null,
   "metadata": {},
   "outputs": [],
   "source": []
  }
 ],
 "metadata": {
  "kernelspec": {
   "display_name": "book",
   "language": "python",
   "name": "book"
  },
  "language_info": {
   "codemirror_mode": {
    "name": "ipython",
    "version": 3
   },
   "file_extension": ".py",
   "mimetype": "text/x-python",
   "name": "python",
   "nbconvert_exporter": "python",
   "pygments_lexer": "ipython3",
   "version": "3.8.3"
  }
 },
 "nbformat": 4,
 "nbformat_minor": 4
}
